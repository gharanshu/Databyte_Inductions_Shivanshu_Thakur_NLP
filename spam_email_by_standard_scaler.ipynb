{
 "cells": [
  {
   "cell_type": "code",
   "execution_count": 18,
   "id": "80838d56-01d7-4b91-8aa0-0ded5fce3bc4",
   "metadata": {},
   "outputs": [],
   "source": [
    "#import necessary libraries\n",
    "\n",
    "import pandas as pd\n",
    "import numpy as np\n",
    "from ucimlrepo import fetch_ucirepo\n",
    "import matplotlib.pyplot as plt\n",
    "import seaborn as sns\n",
    "from imblearn.over_sampling import RandomOverSampler\n",
    "import sklearn as skl\n",
    "from sklearn.preprocessing import StandardScaler, MinMaxScaler\n",
    "from sklearn.feature_extraction.text import TfidfVectorizer\n",
    "from sklearn.naive_bayes import MultinomialNB, GaussianNB\n",
    "from sklearn.linear_model import LogisticRegression\n",
    "from sklearn.svm import SVC\n",
    "from sklearn.neighbors import KNeighborsClassifier\n",
    "from sklearn.metrics import confusion_matrix, classification_report\n",
    "import nltk\n",
    "from nltk.corpus import stopwords\n",
    "from nltk.tokenize import word_tokenize\n",
    "# i downloaded nltk to conver user input but i am not able to do it \n",
    "import re\n",
    "\n",
    "# uncomment below mentioned code if you want to avoid scientific notations\n",
    "np.set_printoptions(suppress = True, precision=3) \n",
    "\n",
    "# make the results reproduceable (HOPEFULLY :'-]) \n",
    "np.random.seed(42)"
   ]
  },
  {
   "cell_type": "code",
   "execution_count": 38,
   "id": "5b2b761f-ba11-4f3b-9caa-6f29a977a0ba",
   "metadata": {},
   "outputs": [
    {
     "name": "stdout",
     "output_type": "stream",
     "text": [
      "{'uci_id': 94, 'name': 'Spambase', 'repository_url': 'https://archive.ics.uci.edu/dataset/94/spambase', 'data_url': 'https://archive.ics.uci.edu/static/public/94/data.csv', 'abstract': 'Classifying Email as Spam or Non-Spam', 'area': 'Computer Science', 'tasks': ['Classification'], 'characteristics': ['Multivariate'], 'num_instances': 4601, 'num_features': 57, 'feature_types': ['Integer', 'Real'], 'demographics': [], 'target_col': ['Class'], 'index_col': None, 'has_missing_values': 'no', 'missing_values_symbol': None, 'year_of_dataset_creation': 1999, 'last_updated': 'Mon Aug 28 2023', 'dataset_doi': '10.24432/C53G6X', 'creators': ['Mark Hopkins', 'Erik Reeber', 'George Forman', 'Jaap Suermondt'], 'intro_paper': None, 'additional_info': {'summary': 'The \"spam\" concept is diverse: advertisements for products/web sites, make money fast schemes, chain letters, pornography...\\n\\nThe classification task for this dataset is to determine whether a given email is spam or not.\\n\\t\\nOur collection of spam e-mails came from our postmaster and individuals who had filed spam.  Our collection of non-spam e-mails came from filed work and personal e-mails, and hence the word \\'george\\' and the area code \\'650\\' are indicators of non-spam.  These are useful when constructing a personalized spam filter.  One would either have to blind such non-spam indicators or get a very wide collection of non-spam to generate a general purpose spam filter.\\n\\nFor background on spam: Cranor, Lorrie F., LaMacchia, Brian A.  Spam!, Communications of the ACM, 41(8):74-83, 1998.\\n\\nTypical performance is around ~7% misclassification error. False positives (marking good mail as spam) are very undesirable.If we insist on zero false positives in the training/testing set, 20-25% of the spam passed through the filter. See also Hewlett-Packard Internal-only Technical Report. External version forthcoming. ', 'purpose': None, 'funded_by': None, 'instances_represent': 'Emails', 'recommended_data_splits': None, 'sensitive_data': None, 'preprocessing_description': None, 'variable_info': 'The last column of \\'spambase.data\\' denotes whether the e-mail was considered spam (1) or not (0), i.e. unsolicited commercial e-mail.  Most of the attributes indicate whether a particular word or character was frequently occuring in the e-mail.  The run-length attributes (55-57) measure the length of sequences of consecutive capital letters.  For the statistical measures of each attribute, see the end of this file.  Here are the definitions of the attributes:\\r\\n\\r\\n48 continuous real [0,100] attributes of type word_freq_WORD \\r\\n= percentage of words in the e-mail that match WORD, i.e. 100 * (number of times the WORD appears in the e-mail) / total number of words in e-mail.  A \"word\" in this case is any string of alphanumeric characters bounded by non-alphanumeric characters or end-of-string.\\r\\n\\r\\n6 continuous real [0,100] attributes of type char_freq_CHAR] \\r\\n= percentage of characters in the e-mail that match CHAR, i.e. 100 * (number of CHAR occurences) / total characters in e-mail\\r\\n\\r\\n1 continuous real [1,...] attribute of type capital_run_length_average \\r\\n= average length of uninterrupted sequences of capital letters\\r\\n\\r\\n1 continuous integer [1,...] attribute of type capital_run_length_longest \\r\\n= length of longest uninterrupted sequence of capital letters\\r\\n\\r\\n1 continuous integer [1,...] attribute of type capital_run_length_total \\r\\n= sum of length of uninterrupted sequences of capital letters \\r\\n= total number of capital letters in the e-mail\\r\\n\\r\\n1 nominal {0,1} class attribute of type spam\\r\\n= denotes whether the e-mail was considered spam (1) or not (0), i.e. unsolicited commercial e-mail.  \\r\\n', 'citation': None}}\n"
     ]
    }
   ],
   "source": [
    "dataset = fetch_ucirepo(id=94)\n",
    "\n",
    "#to see the dataset info uncomment the print line\n",
    "print(dataset.metadata)"
   ]
  },
  {
   "cell_type": "code",
   "execution_count": 5,
   "id": "0f8ea617-a095-4a24-9d72-40f522c13c43",
   "metadata": {},
   "outputs": [],
   "source": [
    "#importing the dataset\n",
    "\n",
    "url =  'https://archive.ics.uci.edu/static/public/94/data.csv'\n",
    "df = pd.read_csv(url)"
   ]
  },
  {
   "cell_type": "code",
   "execution_count": 6,
   "id": "aea6ebc8-a2b2-4fd3-8fcf-45e98ef53a5b",
   "metadata": {},
   "outputs": [],
   "source": [
    "#df.head()\n",
    "#df.columns\n",
    "#target column = Class\n",
    "#features = 57"
   ]
  },
  {
   "cell_type": "code",
   "execution_count": 7,
   "id": "20a9be5a-1e28-4d95-bb05-2739167ef4c0",
   "metadata": {},
   "outputs": [
    {
     "name": "stdout",
     "output_type": "stream",
     "text": [
      "Are there any Duplicated Columns: False\n",
      "Are there any null values in the data: False\n"
     ]
    }
   ],
   "source": [
    "#data_cleaning\n",
    "print(f'Are there any Duplicated Columns: {df.columns.duplicated().any()}')\n",
    "print(f'Are there any null values in the data: {df.isnull().any().any()}')"
   ]
  },
  {
   "cell_type": "code",
   "execution_count": 8,
   "id": "155fb7de-4e73-48b0-a245-4540d0fd0c7e",
   "metadata": {},
   "outputs": [],
   "source": [
    "#df.describe()#\n",
    "#df.info()\n",
    "#checking for any wrond datatype than expected in the data: \n",
    "#result: False #everythings fine :)"
   ]
  },
  {
   "cell_type": "code",
   "execution_count": 9,
   "id": "3fd7ce13-1919-4e63-9af8-6aabad3d14c4",
   "metadata": {},
   "outputs": [
    {
     "name": "stdout",
     "output_type": "stream",
     "text": [
      "Size of training data: 3680\n",
      "Size of test data: 921\n"
     ]
    },
    {
     "name": "stderr",
     "output_type": "stream",
     "text": [
      "C:\\Users\\Sai\\OneDrive\\Desktop\\databyte submission\\databyte_env\\Lib\\site-packages\\numpy\\_core\\fromnumeric.py:57: FutureWarning: 'DataFrame.swapaxes' is deprecated and will be removed in a future version. Please use 'DataFrame.transpose' instead.\n",
      "  return bound(*args, **kwds)\n"
     ]
    },
    {
     "data": {
      "text/html": [
       "<div>\n",
       "<style scoped>\n",
       "    .dataframe tbody tr th:only-of-type {\n",
       "        vertical-align: middle;\n",
       "    }\n",
       "\n",
       "    .dataframe tbody tr th {\n",
       "        vertical-align: top;\n",
       "    }\n",
       "\n",
       "    .dataframe thead th {\n",
       "        text-align: right;\n",
       "    }\n",
       "</style>\n",
       "<table border=\"1\" class=\"dataframe\">\n",
       "  <thead>\n",
       "    <tr style=\"text-align: right;\">\n",
       "      <th></th>\n",
       "      <th>word_freq_make</th>\n",
       "      <th>word_freq_address</th>\n",
       "      <th>word_freq_all</th>\n",
       "      <th>word_freq_3d</th>\n",
       "      <th>word_freq_our</th>\n",
       "      <th>word_freq_over</th>\n",
       "      <th>word_freq_remove</th>\n",
       "      <th>word_freq_internet</th>\n",
       "      <th>word_freq_order</th>\n",
       "      <th>word_freq_mail</th>\n",
       "      <th>...</th>\n",
       "      <th>char_freq_;</th>\n",
       "      <th>char_freq_(</th>\n",
       "      <th>char_freq_[</th>\n",
       "      <th>char_freq_!</th>\n",
       "      <th>char_freq_$</th>\n",
       "      <th>char_freq_#</th>\n",
       "      <th>capital_run_length_average</th>\n",
       "      <th>capital_run_length_longest</th>\n",
       "      <th>capital_run_length_total</th>\n",
       "      <th>Class</th>\n",
       "    </tr>\n",
       "  </thead>\n",
       "  <tbody>\n",
       "    <tr>\n",
       "      <th>count</th>\n",
       "      <td>3680.000000</td>\n",
       "      <td>3680.000000</td>\n",
       "      <td>3680.000000</td>\n",
       "      <td>3680.000000</td>\n",
       "      <td>3680.000000</td>\n",
       "      <td>3680.000000</td>\n",
       "      <td>3680.000000</td>\n",
       "      <td>3680.000000</td>\n",
       "      <td>3680.000000</td>\n",
       "      <td>3680.000000</td>\n",
       "      <td>...</td>\n",
       "      <td>3680.000000</td>\n",
       "      <td>3680.000000</td>\n",
       "      <td>3680.000000</td>\n",
       "      <td>3680.000000</td>\n",
       "      <td>3680.000000</td>\n",
       "      <td>3680.000000</td>\n",
       "      <td>3680.000000</td>\n",
       "      <td>3680.000000</td>\n",
       "      <td>3680.000000</td>\n",
       "      <td>3680.000000</td>\n",
       "    </tr>\n",
       "    <tr>\n",
       "      <th>mean</th>\n",
       "      <td>0.104269</td>\n",
       "      <td>0.215918</td>\n",
       "      <td>0.283679</td>\n",
       "      <td>0.064261</td>\n",
       "      <td>0.308299</td>\n",
       "      <td>0.097867</td>\n",
       "      <td>0.113087</td>\n",
       "      <td>0.103304</td>\n",
       "      <td>0.095109</td>\n",
       "      <td>0.247258</td>\n",
       "      <td>...</td>\n",
       "      <td>0.037346</td>\n",
       "      <td>0.136292</td>\n",
       "      <td>0.017741</td>\n",
       "      <td>0.267629</td>\n",
       "      <td>0.076225</td>\n",
       "      <td>0.048231</td>\n",
       "      <td>5.230258</td>\n",
       "      <td>50.295652</td>\n",
       "      <td>283.535326</td>\n",
       "      <td>0.395109</td>\n",
       "    </tr>\n",
       "    <tr>\n",
       "      <th>std</th>\n",
       "      <td>0.300405</td>\n",
       "      <td>1.294452</td>\n",
       "      <td>0.504191</td>\n",
       "      <td>1.406851</td>\n",
       "      <td>0.669158</td>\n",
       "      <td>0.278426</td>\n",
       "      <td>0.387176</td>\n",
       "      <td>0.406353</td>\n",
       "      <td>0.290803</td>\n",
       "      <td>0.677303</td>\n",
       "      <td>...</td>\n",
       "      <td>0.240737</td>\n",
       "      <td>0.225278</td>\n",
       "      <td>0.119125</td>\n",
       "      <td>0.688776</td>\n",
       "      <td>0.245851</td>\n",
       "      <td>0.475139</td>\n",
       "      <td>30.122255</td>\n",
       "      <td>129.291311</td>\n",
       "      <td>599.496841</td>\n",
       "      <td>0.488940</td>\n",
       "    </tr>\n",
       "    <tr>\n",
       "      <th>min</th>\n",
       "      <td>0.000000</td>\n",
       "      <td>0.000000</td>\n",
       "      <td>0.000000</td>\n",
       "      <td>0.000000</td>\n",
       "      <td>0.000000</td>\n",
       "      <td>0.000000</td>\n",
       "      <td>0.000000</td>\n",
       "      <td>0.000000</td>\n",
       "      <td>0.000000</td>\n",
       "      <td>0.000000</td>\n",
       "      <td>...</td>\n",
       "      <td>0.000000</td>\n",
       "      <td>0.000000</td>\n",
       "      <td>0.000000</td>\n",
       "      <td>0.000000</td>\n",
       "      <td>0.000000</td>\n",
       "      <td>0.000000</td>\n",
       "      <td>1.000000</td>\n",
       "      <td>1.000000</td>\n",
       "      <td>1.000000</td>\n",
       "      <td>0.000000</td>\n",
       "    </tr>\n",
       "    <tr>\n",
       "      <th>25%</th>\n",
       "      <td>0.000000</td>\n",
       "      <td>0.000000</td>\n",
       "      <td>0.000000</td>\n",
       "      <td>0.000000</td>\n",
       "      <td>0.000000</td>\n",
       "      <td>0.000000</td>\n",
       "      <td>0.000000</td>\n",
       "      <td>0.000000</td>\n",
       "      <td>0.000000</td>\n",
       "      <td>0.000000</td>\n",
       "      <td>...</td>\n",
       "      <td>0.000000</td>\n",
       "      <td>0.000000</td>\n",
       "      <td>0.000000</td>\n",
       "      <td>0.000000</td>\n",
       "      <td>0.000000</td>\n",
       "      <td>0.000000</td>\n",
       "      <td>1.600000</td>\n",
       "      <td>6.000000</td>\n",
       "      <td>36.000000</td>\n",
       "      <td>0.000000</td>\n",
       "    </tr>\n",
       "    <tr>\n",
       "      <th>50%</th>\n",
       "      <td>0.000000</td>\n",
       "      <td>0.000000</td>\n",
       "      <td>0.000000</td>\n",
       "      <td>0.000000</td>\n",
       "      <td>0.000000</td>\n",
       "      <td>0.000000</td>\n",
       "      <td>0.000000</td>\n",
       "      <td>0.000000</td>\n",
       "      <td>0.000000</td>\n",
       "      <td>0.000000</td>\n",
       "      <td>...</td>\n",
       "      <td>0.000000</td>\n",
       "      <td>0.065000</td>\n",
       "      <td>0.000000</td>\n",
       "      <td>0.000000</td>\n",
       "      <td>0.000000</td>\n",
       "      <td>0.000000</td>\n",
       "      <td>2.280500</td>\n",
       "      <td>15.000000</td>\n",
       "      <td>96.000000</td>\n",
       "      <td>0.000000</td>\n",
       "    </tr>\n",
       "    <tr>\n",
       "      <th>75%</th>\n",
       "      <td>0.000000</td>\n",
       "      <td>0.000000</td>\n",
       "      <td>0.420000</td>\n",
       "      <td>0.000000</td>\n",
       "      <td>0.390000</td>\n",
       "      <td>0.000000</td>\n",
       "      <td>0.000000</td>\n",
       "      <td>0.000000</td>\n",
       "      <td>0.000000</td>\n",
       "      <td>0.170000</td>\n",
       "      <td>...</td>\n",
       "      <td>0.000000</td>\n",
       "      <td>0.190000</td>\n",
       "      <td>0.000000</td>\n",
       "      <td>0.322250</td>\n",
       "      <td>0.056000</td>\n",
       "      <td>0.000000</td>\n",
       "      <td>3.697000</td>\n",
       "      <td>43.000000</td>\n",
       "      <td>268.500000</td>\n",
       "      <td>1.000000</td>\n",
       "    </tr>\n",
       "    <tr>\n",
       "      <th>max</th>\n",
       "      <td>4.340000</td>\n",
       "      <td>14.280000</td>\n",
       "      <td>4.540000</td>\n",
       "      <td>42.810000</td>\n",
       "      <td>10.000000</td>\n",
       "      <td>5.880000</td>\n",
       "      <td>7.270000</td>\n",
       "      <td>11.110000</td>\n",
       "      <td>5.260000</td>\n",
       "      <td>18.180000</td>\n",
       "      <td>...</td>\n",
       "      <td>4.385000</td>\n",
       "      <td>5.277000</td>\n",
       "      <td>4.081000</td>\n",
       "      <td>19.131000</td>\n",
       "      <td>6.003000</td>\n",
       "      <td>19.829000</td>\n",
       "      <td>1021.500000</td>\n",
       "      <td>2042.000000</td>\n",
       "      <td>15841.000000</td>\n",
       "      <td>1.000000</td>\n",
       "    </tr>\n",
       "  </tbody>\n",
       "</table>\n",
       "<p>8 rows × 58 columns</p>\n",
       "</div>"
      ],
      "text/plain": [
       "       word_freq_make  word_freq_address  word_freq_all  word_freq_3d  \\\n",
       "count     3680.000000        3680.000000    3680.000000   3680.000000   \n",
       "mean         0.104269           0.215918       0.283679      0.064261   \n",
       "std          0.300405           1.294452       0.504191      1.406851   \n",
       "min          0.000000           0.000000       0.000000      0.000000   \n",
       "25%          0.000000           0.000000       0.000000      0.000000   \n",
       "50%          0.000000           0.000000       0.000000      0.000000   \n",
       "75%          0.000000           0.000000       0.420000      0.000000   \n",
       "max          4.340000          14.280000       4.540000     42.810000   \n",
       "\n",
       "       word_freq_our  word_freq_over  word_freq_remove  word_freq_internet  \\\n",
       "count    3680.000000     3680.000000       3680.000000         3680.000000   \n",
       "mean        0.308299        0.097867          0.113087            0.103304   \n",
       "std         0.669158        0.278426          0.387176            0.406353   \n",
       "min         0.000000        0.000000          0.000000            0.000000   \n",
       "25%         0.000000        0.000000          0.000000            0.000000   \n",
       "50%         0.000000        0.000000          0.000000            0.000000   \n",
       "75%         0.390000        0.000000          0.000000            0.000000   \n",
       "max        10.000000        5.880000          7.270000           11.110000   \n",
       "\n",
       "       word_freq_order  word_freq_mail  ...  char_freq_;  char_freq_(  \\\n",
       "count      3680.000000     3680.000000  ...  3680.000000  3680.000000   \n",
       "mean          0.095109        0.247258  ...     0.037346     0.136292   \n",
       "std           0.290803        0.677303  ...     0.240737     0.225278   \n",
       "min           0.000000        0.000000  ...     0.000000     0.000000   \n",
       "25%           0.000000        0.000000  ...     0.000000     0.000000   \n",
       "50%           0.000000        0.000000  ...     0.000000     0.065000   \n",
       "75%           0.000000        0.170000  ...     0.000000     0.190000   \n",
       "max           5.260000       18.180000  ...     4.385000     5.277000   \n",
       "\n",
       "       char_freq_[  char_freq_!  char_freq_$  char_freq_#  \\\n",
       "count  3680.000000  3680.000000  3680.000000  3680.000000   \n",
       "mean      0.017741     0.267629     0.076225     0.048231   \n",
       "std       0.119125     0.688776     0.245851     0.475139   \n",
       "min       0.000000     0.000000     0.000000     0.000000   \n",
       "25%       0.000000     0.000000     0.000000     0.000000   \n",
       "50%       0.000000     0.000000     0.000000     0.000000   \n",
       "75%       0.000000     0.322250     0.056000     0.000000   \n",
       "max       4.081000    19.131000     6.003000    19.829000   \n",
       "\n",
       "       capital_run_length_average  capital_run_length_longest  \\\n",
       "count                 3680.000000                 3680.000000   \n",
       "mean                     5.230258                   50.295652   \n",
       "std                     30.122255                  129.291311   \n",
       "min                      1.000000                    1.000000   \n",
       "25%                      1.600000                    6.000000   \n",
       "50%                      2.280500                   15.000000   \n",
       "75%                      3.697000                   43.000000   \n",
       "max                   1021.500000                 2042.000000   \n",
       "\n",
       "       capital_run_length_total        Class  \n",
       "count               3680.000000  3680.000000  \n",
       "mean                 283.535326     0.395109  \n",
       "std                  599.496841     0.488940  \n",
       "min                    1.000000     0.000000  \n",
       "25%                   36.000000     0.000000  \n",
       "50%                   96.000000     0.000000  \n",
       "75%                  268.500000     1.000000  \n",
       "max                15841.000000     1.000000  \n",
       "\n",
       "[8 rows x 58 columns]"
      ]
     },
     "execution_count": 9,
     "metadata": {},
     "output_type": "execute_result"
    }
   ],
   "source": [
    "#splitting data into train and test\n",
    "train, test = np.split(df.sample(frac = 1), [int(0.8*len(df))])\n",
    "print(f'Size of training data: {len(train)}\\nSize of test data: {len(test)}') #80 percent training data, 20 percent test data\n",
    "train.describe()"
   ]
  },
  {
   "cell_type": "code",
   "execution_count": 10,
   "id": "98bdf3c4-a740-4d02-972d-c946a50c2750",
   "metadata": {},
   "outputs": [],
   "source": [
    "### since there is lot of variation among feature values i chose to scale the data so as to reduce it and prevent formation \n",
    "### of bias, also spam: 1 is far exceeded by ham: 0 so it seemed fit to oversample the given data in training part "
   ]
  },
  {
   "cell_type": "code",
   "execution_count": 11,
   "id": "6702c5b2-bb4a-4878-9003-41c7d0334e5c",
   "metadata": {},
   "outputs": [],
   "source": [
    "def scale_and_oversample_data(dataset, oversample = False):\n",
    "    X = df[df.columns[:-1]].values\n",
    "    y = df[df.columns[-1]].values\n",
    "    scaler = StandardScaler()\n",
    "    ROS = RandomOverSampler()\n",
    "\n",
    "    X = scaler.fit_transform(X)\n",
    "\n",
    "    if oversample:\n",
    "        X, y = ROS.fit_resample(X, y)\n",
    "    data = np.hstack((X, (y.reshape(-1,1))))\n",
    "    return dataset, X, y"
   ]
  },
  {
   "cell_type": "code",
   "execution_count": 12,
   "id": "34116367-179c-45be-92ed-cca456a712c4",
   "metadata": {},
   "outputs": [],
   "source": [
    "train, X_train, y_train =  scale_and_oversample_data(train, oversample = True)\n",
    "test, X_test, y_test = scale_and_oversample_data(test, oversample = False)"
   ]
  },
  {
   "cell_type": "code",
   "execution_count": 22,
   "id": "f33f8c91-0c15-4b52-bd5e-02b6df2bf82c",
   "metadata": {},
   "outputs": [],
   "source": [
    "reg = LogisticRegression()\n",
    "svm = SVC()\n",
    "knn = KNeighborsClassifier()\n",
    "nb = GaussianNB()"
   ]
  },
  {
   "cell_type": "code",
   "execution_count": 26,
   "id": "4e16b4b4-754c-4d73-a686-c98a0d67741d",
   "metadata": {},
   "outputs": [],
   "source": [
    "models = [svm, nb, knn, reg]\n",
    "def select_model(model_list):\n",
    "    li = []\n",
    "    for model in models:\n",
    "        model.fit(X_train, y_train)\n",
    "        y_pred = model.predict(X_test)\n",
    "        acc = skl.metrics.accuracy_score(y_test, y_pred)\n",
    "        li.append(acc)\n",
    "    i = li.index(max(li))\n",
    "    return models[i]"
   ]
  },
  {
   "cell_type": "code",
   "execution_count": 29,
   "id": "055c91cf-4b3d-44c5-8888-1c8ee93dd794",
   "metadata": {},
   "outputs": [
    {
     "name": "stdout",
     "output_type": "stream",
     "text": [
      "Model Name: SVC()\n",
      "CLASSIFICATION REPORT:\n",
      "\n",
      "              precision    recall  f1-score   support\n",
      "\n",
      "           0       0.96      0.96      0.96      2788\n",
      "           1       0.94      0.93      0.93      1813\n",
      "\n",
      "    accuracy                           0.95      4601\n",
      "   macro avg       0.95      0.95      0.95      4601\n",
      "weighted avg       0.95      0.95      0.95      4601\n",
      "\n"
     ]
    },
    {
     "data": {
      "image/png": "[encoded data removed]",
      "text/plain": [
       "<Figure size 640x480 with 2 Axes>"
      ]
     },
     "metadata": {},
     "output_type": "display_data"
    }
   ],
   "source": [
    "model = select_model(models)\n",
    "print(f'Model Name: {model}')\n",
    "model.fit(X_train, y_train)\n",
    "y_pred = model.predict(X_test)\n",
    "print(f'CLASSIFICATION REPORT:\\n\\n{classification_report(y_test, y_pred)}')\n",
    "cm = confusion_matrix(y_test, y_pred)\n",
    "sns.heatmap(cm, \n",
    "           annot = True,\n",
    "           fmt = 'g',\n",
    "           xticklabels=['Spam','Ham'],\n",
    "            yticklabels=['Spam','Ham'])\n",
    "plt.xlabel('Prediction',fontsize=13)\n",
    "plt.ylabel('Actual',fontsize=13)\n",
    "plt.title('Confusion Matrix',fontsize=17)\n",
    "plt.show()"
   ]
  },
  {
   "cell_type": "code",
   "execution_count": 43,
   "id": "751ba4fe-0ab7-4892-a5b5-894ad7183e51",
   "metadata": {},
   "outputs": [
    {
     "name": "stdin",
     "output_type": "stream",
     "text": [
      "Enter your mail:  Hello, My name is shivanshu Thkaur\n"
     ]
    },
    {
     "name": "stdout",
     "output_type": "stream",
     "text": [
      "['Hello', ',', 'My', 'name', 'is', 'shivanshu', 'Thkaur']\n",
      "34\n"
     ]
    },
    {
     "data": {
      "text/plain": [
       "'dict ={\\n    Char_freq_Word: 1,\\n}'"
      ]
     },
     "execution_count": 43,
     "metadata": {},
     "output_type": "execute_result"
    }
   ],
   "source": [
    "user_input = input(\"Enter your mail: \")\n",
    "words = nltk.word_tokenize(user_input)\n",
    "print(words)\n",
    "print(len(user_input))"
   ]
  },
  {
   "cell_type": "code",
   "execution_count": null,
   "id": "0007bfb5-0c4e-42d7-8b19-8fd3e5927ca7",
   "metadata": {},
   "outputs": [],
   "source": []
  },
  {
   "cell_type": "code",
   "execution_count": null,
   "id": "6b43f7ea-3ab6-4362-ba75-948583e38d55",
   "metadata": {},
   "outputs": [],
   "source": []
  },
  {
   "cell_type": "code",
   "execution_count": null,
   "id": "89408b66-b69d-4298-803f-0db7e230f07b",
   "metadata": {},
   "outputs": [],
   "source": []
  },
  {
   "cell_type": "code",
   "execution_count": null,
   "id": "4eef6091-b24a-4c78-84f9-fcff9d642532",
   "metadata": {},
   "outputs": [],
   "source": []
  },
  {
   "cell_type": "code",
   "execution_count": null,
   "id": "c37f2a9d-adc5-4a60-916e-c7187c5d366e",
   "metadata": {},
   "outputs": [],
   "source": []
  }
 ],
 "metadata": {
  "kernelspec": {
   "display_name": "Python 3 (ipykernel)",
   "language": "python",
   "name": "python3"
  },
  "language_info": {
   "codemirror_mode": {
    "name": "ipython",
    "version": 3
   },
   "file_extension": ".py",
   "mimetype": "text/x-python",
   "name": "python",
   "nbconvert_exporter": "python",
   "pygments_lexer": "ipython3",
   "version": "3.12.2"
  }
 },
 "nbformat": 4,
 "nbformat_minor": 5
}
